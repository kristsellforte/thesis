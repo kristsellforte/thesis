{
 "cells": [
  {
   "cell_type": "code",
   "execution_count": 1,
   "metadata": {},
   "outputs": [],
   "source": [
    "import pandas as pd\n",
    "import json"
   ]
  },
  {
   "cell_type": "code",
   "execution_count": 2,
   "metadata": {},
   "outputs": [],
   "source": [
    "data_path = './data.csv'"
   ]
  },
  {
   "cell_type": "code",
   "execution_count": 3,
   "metadata": {},
   "outputs": [],
   "source": [
    "def get_data(data_path):\n",
    "    try:\n",
    "        with open(data_path, 'r') as f:\n",
    "            return pd.read_csv(f, delimiter=';')\n",
    "    except FileNotFoundError:\n",
    "        return {}"
   ]
  },
  {
   "cell_type": "code",
   "execution_count": 4,
   "metadata": {},
   "outputs": [],
   "source": [
    "def get_quality_config(quality_path):\n",
    "    try:\n",
    "        with open(quality_path, 'r') as f:\n",
    "            return json.load(f)\n",
    "    except FileNotFoundError:\n",
    "        return {}"
   ]
  },
  {
   "cell_type": "code",
   "execution_count": 26,
   "metadata": {},
   "outputs": [
    {
     "name": "stdout",
     "output_type": "stream",
     "text": [
      "                         sales\n",
      "date       location           \n",
      "01/04/2018 Espoo     278008.37\n",
      "           Helsinki  278008.37\n",
      "01/07/2018 Espoo     328624.72\n",
      "           Helsinki  328624.72\n",
      "02/09/2018 Espoo     349409.49\n",
      "           Helsinki  349409.49\n",
      "02/12/2018 Espoo     330849.31\n",
      "           Helsinki  330849.31\n",
      "03/06/2018 Espoo     179775.11\n",
      "           Helsinki  179775.11\n",
      "04/02/2018 Espoo     434329.80\n",
      "           Helsinki  434329.80\n",
      "04/03/2018 Espoo     277410.76\n",
      "           Helsinki  277410.76\n",
      "04/11/2018 Espoo     190365.60\n",
      "           Helsinki  190365.60\n",
      "05/08/2018 Espoo     207175.37\n",
      "           Helsinki  207175.37\n",
      "06/05/2018 Espoo     178798.54\n",
      "           Helsinki  178798.54\n",
      "07/01/2018 Espoo     204866.47\n",
      "           Helsinki  204866.47\n",
      "07/10/2018 Espoo     392230.81\n",
      "           Helsinki  392230.81\n",
      "08/04/2018 Espoo     245231.97\n",
      "           Helsinki  245231.97\n",
      "08/07/2018 Espoo     305896.15\n",
      "           Helsinki  305896.15\n",
      "09/09/2018 Espoo     211290.70\n",
      "           Helsinki  211290.70\n",
      "...                        ...\n",
      "22/07/2018 Espoo     200535.19\n",
      "           Helsinki  200535.19\n",
      "23/09/2018 Espoo     349717.79\n",
      "           Helsinki  349717.79\n",
      "23/12/2018 Espoo     316314.33\n",
      "           Helsinki  316314.33\n",
      "24/06/2018 Espoo     192567.07\n",
      "           Helsinki  192567.07\n",
      "25/02/2018 Espoo     273771.41\n",
      "           Helsinki  273771.41\n",
      "25/03/2018 Espoo     289583.70\n",
      "           Helsinki  289583.70\n",
      "25/11/2018 Espoo     197262.70\n",
      "           Helsinki  197262.70\n",
      "26/08/2018 Espoo     387979.40\n",
      "           Helsinki  387979.40\n",
      "27/05/2018 Espoo     117578.58\n",
      "           Helsinki  117578.58\n",
      "28/01/2018 Espoo     459594.15\n",
      "           Helsinki  459594.15\n",
      "28/10/2018 Espoo     221236.89\n",
      "           Helsinki  221236.89\n",
      "29/04/2018 Espoo     173311.22\n",
      "           Helsinki  173311.22\n",
      "29/07/2018 Espoo     205601.73\n",
      "           Helsinki  205601.73\n",
      "30/09/2018 Espoo     351242.40\n",
      "           Helsinki  351242.40\n",
      "30/12/2018 Espoo     240214.69\n",
      "           Helsinki  240214.69\n",
      "\n",
      "[104 rows x 1 columns]\n"
     ]
    }
   ],
   "source": [
    "quality_config = get_quality_config('./quality.json')['poor']\n",
    "df = get_data(data_path)\n",
    "df['sales'] = df.volume * df.unit_price\n",
    "aggregation = quality_config['aggregation']\n",
    "df = df[aggregation.extend(['sales'])]\n",
    "df = df.groupby(aggregation).sum()\n",
    "print(df)"
   ]
  },
  {
   "cell_type": "code",
   "execution_count": null,
   "metadata": {},
   "outputs": [],
   "source": []
  },
  {
   "cell_type": "code",
   "execution_count": null,
   "metadata": {},
   "outputs": [],
   "source": []
  },
  {
   "cell_type": "code",
   "execution_count": null,
   "metadata": {},
   "outputs": [],
   "source": []
  }
 ],
 "metadata": {
  "kernelspec": {
   "display_name": "airflow_jupyter",
   "language": "python",
   "name": "airflow_jupyter"
  },
  "language_info": {
   "codemirror_mode": {
    "name": "ipython",
    "version": 3
   },
   "file_extension": ".py",
   "mimetype": "text/x-python",
   "name": "python",
   "nbconvert_exporter": "python",
   "pygments_lexer": "ipython3",
   "version": "3.6.2"
  }
 },
 "nbformat": 4,
 "nbformat_minor": 2
}
