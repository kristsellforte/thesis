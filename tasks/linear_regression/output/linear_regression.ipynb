{
 "cells": [
  {
   "cell_type": "code",
   "execution_count": 1,
   "metadata": {
    "papermill": {
     "duration": 0.019744,
     "end_time": "2019-04-14T12:02:47.066617",
     "exception": false,
     "start_time": "2019-04-14T12:02:47.046873",
     "status": "completed"
    },
    "tags": []
   },
   "outputs": [],
   "source": [
    "csv_path = 'data/train.csv'"
   ]
  },
  {
   "cell_type": "code",
   "execution_count": 2,
   "metadata": {
    "papermill": {
     "duration": 1.619735,
     "end_time": "2019-04-14T12:02:48.692601",
     "exception": false,
     "start_time": "2019-04-14T12:02:47.072866",
     "status": "completed"
    },
    "tags": []
   },
   "outputs": [],
   "source": [
    "import pandas as pd\n",
    "# import numpy as np\n",
    "from datetime import datetime\n",
    "from sklearn import linear_model\n",
    "import statsmodels.api as sm"
   ]
  },
  {
   "cell_type": "code",
   "execution_count": 3,
   "metadata": {
    "papermill": {
     "duration": 9.514091,
     "end_time": "2019-04-14T12:02:58.213052",
     "exception": false,
     "start_time": "2019-04-14T12:02:48.698961",
     "status": "completed"
    },
    "tags": []
   },
   "outputs": [],
   "source": [
    "df = pd.read_csv(csv_path)\n",
    "df['date'] = df['date'].apply(lambda x: datetime.strptime(x, '%Y-%m-%d').toordinal())\n",
    "x = df[['date', 'store', 'item']]\n",
    "y = df[['sales']]"
   ]
  },
  {
   "cell_type": "code",
   "execution_count": 4,
   "metadata": {
    "papermill": {
     "duration": 0.083504,
     "end_time": "2019-04-14T12:02:58.302112",
     "exception": false,
     "start_time": "2019-04-14T12:02:58.218608",
     "status": "completed"
    },
    "tags": []
   },
   "outputs": [
    {
     "name": "stdout",
     "output_type": "stream",
     "text": [
      "Intercept: \n",
      " [-7820.39015481]\n",
      "Coefficients: \n",
      " [[ 0.01070418 -0.08192638 -0.11176095]]\n"
     ]
    }
   ],
   "source": [
    "regr = linear_model.LinearRegression()\n",
    "regr.fit(x, y)\n",
    "print('Intercept: \\n', regr.intercept_)\n",
    "print('Coefficients: \\n', regr.coef_)"
   ]
  },
  {
   "cell_type": "code",
   "execution_count": 5,
   "metadata": {
    "papermill": {
     "duration": 0.017897,
     "end_time": "2019-04-14T12:02:58.326218",
     "exception": false,
     "start_time": "2019-04-14T12:02:58.308321",
     "status": "completed"
    },
    "tags": []
   },
   "outputs": [
    {
     "name": "stdout",
     "output_type": "stream",
     "text": [
      "          date  store  item  sales\n",
      "912999  736694     10    50     82\n",
      "Predicted sales: \n",
      " [[58.91104332]]\n"
     ]
    }
   ],
   "source": [
    "date = datetime.strptime('2017-12-31', '%Y-%m-%d').toordinal()\n",
    "store = 10\n",
    "item = 50\n",
    "print(df.tail(1))\n",
    "print ('Predicted sales: \\n', regr.predict([[date, store, item]]))"
   ]
  },
  {
   "cell_type": "code",
   "execution_count": 6,
   "metadata": {
    "papermill": {
     "duration": 0.414123,
     "end_time": "2019-04-14T12:02:58.747007",
     "exception": false,
     "start_time": "2019-04-14T12:02:58.332884",
     "status": "completed"
    },
    "tags": []
   },
   "outputs": [
    {
     "name": "stderr",
     "output_type": "stream",
     "text": [
      "/Users/kristskreics/.virtualenvs/airflow_jupyter/lib/python3.6/site-packages/numpy/core/fromnumeric.py:2389: FutureWarning: Method .ptp is deprecated and will be removed in a future version. Use numpy.ptp instead.\n",
      "  return ptp(axis=axis, out=out, **kwargs)\n"
     ]
    },
    {
     "name": "stdout",
     "output_type": "stream",
     "text": [
      "                            OLS Regression Results                            \n",
      "==============================================================================\n",
      "Dep. Variable:                  sales   R-squared:                       0.042\n",
      "Model:                            OLS   Adj. R-squared:                  0.042\n",
      "Method:                 Least Squares   F-statistic:                 1.320e+04\n",
      "Date:                Sun, 14 Apr 2019   Prob (F-statistic):               0.00\n",
      "Time:                        15:02:58   Log-Likelihood:            -4.3442e+06\n",
      "No. Observations:              913000   AIC:                         8.688e+06\n",
      "Df Residuals:                  912996   BIC:                         8.688e+06\n",
      "Df Model:                           3                                         \n",
      "Covariance Type:            nonrobust                                         \n",
      "==============================================================================\n",
      "                 coef    std err          t      P>|t|      [0.025      0.975]\n",
      "------------------------------------------------------------------------------\n",
      "const      -7820.3902     41.190   -189.861      0.000   -7901.121   -7739.659\n",
      "date           0.0107    5.6e-05    191.210      0.000       0.011       0.011\n",
      "store         -0.0819      0.010     -7.974      0.000      -0.102      -0.062\n",
      "item          -0.1118      0.002    -54.655      0.000      -0.116      -0.108\n",
      "==============================================================================\n",
      "Omnibus:                    80291.763   Durbin-Watson:                   0.253\n",
      "Prob(Omnibus):                  0.000   Jarque-Bera (JB):           103110.890\n",
      "Skew:                           0.798   Prob(JB):                         0.00\n",
      "Kurtosis:                       3.405   Cond. No.                     1.03e+09\n",
      "==============================================================================\n",
      "\n",
      "Warnings:\n",
      "[1] Standard Errors assume that the covariance matrix of the errors is correctly specified.\n",
      "[2] The condition number is large, 1.03e+09. This might indicate that there are\n",
      "strong multicollinearity or other numerical problems.\n"
     ]
    }
   ],
   "source": [
    "# with statsmodels\n",
    "x = sm.add_constant(x) # adding a constant\n",
    " \n",
    "model = sm.OLS(y, x).fit()\n",
    "predictions = model.predict(x) \n",
    " \n",
    "print_model = model.summary()\n",
    "print(print_model)"
   ]
  },
  {
   "cell_type": "code",
   "execution_count": 7,
   "metadata": {
    "papermill": {
     "duration": 0.018557,
     "end_time": "2019-04-14T12:02:58.779399",
     "exception": false,
     "start_time": "2019-04-14T12:02:58.760842",
     "status": "completed"
    },
    "tags": []
   },
   "outputs": [],
   "source": [
    "x = df[['date']]"
   ]
  },
  {
   "cell_type": "code",
   "execution_count": 8,
   "metadata": {
    "papermill": {
     "duration": 0.045905,
     "end_time": "2019-04-14T12:02:58.831844",
     "exception": false,
     "start_time": "2019-04-14T12:02:58.785939",
     "status": "completed"
    },
    "tags": []
   },
   "outputs": [
    {
     "name": "stdout",
     "output_type": "stream",
     "text": [
      "Intercept: \n",
      " [-7823.69065415]\n",
      "Coefficients: \n",
      " [[0.01070418]]\n"
     ]
    }
   ],
   "source": [
    "regr = linear_model.LinearRegression()\n",
    "regr.fit(x, y)\n",
    "print('Intercept: \\n', regr.intercept_)\n",
    "print('Coefficients: \\n', regr.coef_)"
   ]
  },
  {
   "cell_type": "code",
   "execution_count": 9,
   "metadata": {
    "papermill": {
     "duration": 0.015786,
     "end_time": "2019-04-14T12:02:58.854324",
     "exception": false,
     "start_time": "2019-04-14T12:02:58.838538",
     "status": "completed"
    },
    "tags": []
   },
   "outputs": [
    {
     "name": "stdout",
     "output_type": "stream",
     "text": [
      "          date  store  item  sales\n",
      "912999  736694     10    50     82\n",
      "Predicted sales: \n",
      " [[62.01785534]]\n"
     ]
    }
   ],
   "source": [
    "date = datetime.strptime('2017-12-31', '%Y-%m-%d').toordinal()\n",
    "store = 10\n",
    "item = 50\n",
    "print(df.tail(1))\n",
    "print ('Predicted sales: \\n', regr.predict([[date]]))"
   ]
  },
  {
   "cell_type": "code",
   "execution_count": 10,
   "metadata": {
    "papermill": {
     "duration": 0.195606,
     "end_time": "2019-04-14T12:02:59.057144",
     "exception": false,
     "start_time": "2019-04-14T12:02:58.861538",
     "status": "completed"
    },
    "tags": []
   },
   "outputs": [
    {
     "name": "stdout",
     "output_type": "stream",
     "text": [
      "                            OLS Regression Results                            \n",
      "==============================================================================\n",
      "Dep. Variable:                  sales   R-squared:                       0.038\n",
      "Model:                            OLS   Adj. R-squared:                  0.038\n",
      "Method:                 Least Squares   F-statistic:                 3.644e+04\n",
      "Date:                Sun, 14 Apr 2019   Prob (F-statistic):               0.00\n",
      "Time:                        15:02:59   Log-Likelihood:            -4.3457e+06\n",
      "No. Observations:              913000   AIC:                         8.691e+06\n",
      "Df Residuals:                  912998   BIC:                         8.691e+06\n",
      "Df Model:                           1                                         \n",
      "Covariance Type:            nonrobust                                         \n",
      "==============================================================================\n",
      "                 coef    std err          t      P>|t|      [0.025      0.975]\n",
      "------------------------------------------------------------------------------\n",
      "const      -7823.6907     41.259   -189.625      0.000   -7904.556   -7742.825\n",
      "date           0.0107   5.61e-05    190.892      0.000       0.011       0.011\n",
      "==============================================================================\n",
      "Omnibus:                    81476.466   Durbin-Watson:                   0.252\n",
      "Prob(Omnibus):                  0.000   Jarque-Bera (JB):           104976.526\n",
      "Skew:                           0.806   Prob(JB):                         0.00\n",
      "Kurtosis:                       3.399   Cond. No.                     1.03e+09\n",
      "==============================================================================\n",
      "\n",
      "Warnings:\n",
      "[1] Standard Errors assume that the covariance matrix of the errors is correctly specified.\n",
      "[2] The condition number is large, 1.03e+09. This might indicate that there are\n",
      "strong multicollinearity or other numerical problems.\n"
     ]
    },
    {
     "name": "stderr",
     "output_type": "stream",
     "text": [
      "/Users/kristskreics/.virtualenvs/airflow_jupyter/lib/python3.6/site-packages/numpy/core/fromnumeric.py:2389: FutureWarning: Method .ptp is deprecated and will be removed in a future version. Use numpy.ptp instead.\n",
      "  return ptp(axis=axis, out=out, **kwargs)\n"
     ]
    }
   ],
   "source": [
    "# with statsmodels\n",
    "x = sm.add_constant(x) # adding a constant\n",
    " \n",
    "model = sm.OLS(y, x).fit()\n",
    "predictions = model.predict(x) \n",
    " \n",
    "print_model = model.summary()\n",
    "print(print_model)"
   ]
  }
 ],
 "metadata": {
  "kernelspec": {
   "display_name": "airflow_jupyter",
   "language": "python",
   "name": "airflow_jupyter"
  },
  "language_info": {
   "codemirror_mode": {
    "name": "ipython",
    "version": 3
   },
   "file_extension": ".py",
   "mimetype": "text/x-python",
   "name": "python",
   "nbconvert_exporter": "python",
   "pygments_lexer": "ipython3",
   "version": "3.6.2"
  },
  "papermill": {
   "duration": 14.551781,
   "end_time": "2019-04-14T12:02:59.970545",
   "environment_variables": {},
   "exception": null,
   "input_path": "tasks/linear_regression.py.ipynb",
   "output_path": "papermill_output/linear_regression.ipynb",
   "parameters": {},
   "start_time": "2019-04-14T12:02:45.418764",
   "version": "0.19.1"
  }
 },
 "nbformat": 4,
 "nbformat_minor": 2
}