{
 "cells": [
  {
   "cell_type": "code",
   "execution_count": 31,
   "metadata": {},
   "outputs": [],
   "source": [
    "scores_path = '../../scores/linear_regression.json'\n",
    "data_path = '../../data/train.csv'"
   ]
  },
  {
   "cell_type": "code",
   "execution_count": 32,
   "metadata": {},
   "outputs": [],
   "source": [
    "import pickle\n",
    "import json\n",
    "from datetime import datetime\n",
    "import pandas as pd\n",
    "from sklearn import linear_model\n",
    "from sklearn.metrics import mean_squared_error, r2_score"
   ]
  },
  {
   "cell_type": "code",
   "execution_count": 33,
   "metadata": {},
   "outputs": [],
   "source": [
    "with open(scores_path) as scores_json:\n",
    "    scores = json.load(scores_json)\n",
    "    version_number = str(int(max(scores.keys())) + 1)\n",
    "    model_path = '../../models/linear_regression/' + version_number + '.pkl'\n",
    "    model = pickle.load(open(model_path, 'rb'))"
   ]
  },
  {
   "cell_type": "code",
   "execution_count": 34,
   "metadata": {},
   "outputs": [],
   "source": [
    "# primitive scoring function\n",
    "df = pd.read_csv(data_path)\n",
    "df['date'] = df['date'].apply(lambda x: datetime.strptime(x, '%Y-%m-%d').toordinal())\n",
    "x = df[['date', 'store', 'item']]\n",
    "y = df[['sales']]\n",
    "r2_squared_score = model.score(x, y)"
   ]
  },
  {
   "cell_type": "code",
   "execution_count": 42,
   "metadata": {},
   "outputs": [],
   "source": [
    "with open(scores_path, 'r+') as scores_json:\n",
    "    scores = json.load(scores_json)\n",
    "    version_number = str(int(max(scores.keys())) + 1)\n",
    "    scores_json.seek(0)\n",
    "    scores[version_number] = {\n",
    "        'r2_squared': r2_squared_score\n",
    "    }\n",
    "    json.dump(scores, scores_json, indent=4)"
   ]
  },
  {
   "cell_type": "code",
   "execution_count": null,
   "metadata": {},
   "outputs": [],
   "source": []
  }
 ],
 "metadata": {
  "kernelspec": {
   "display_name": "airflow_jupyter",
   "language": "python",
   "name": "airflow_jupyter"
  },
  "language_info": {
   "codemirror_mode": {
    "name": "ipython",
    "version": 3
   },
   "file_extension": ".py",
   "mimetype": "text/x-python",
   "name": "python",
   "nbconvert_exporter": "python",
   "pygments_lexer": "ipython3",
   "version": "3.6.2"
  }
 },
 "nbformat": 4,
 "nbformat_minor": 2
}
